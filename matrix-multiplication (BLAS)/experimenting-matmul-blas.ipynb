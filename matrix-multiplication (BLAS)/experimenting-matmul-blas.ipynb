{
  "cells": [
    {
      "cell_type": "markdown",
      "metadata": {
        "id": "aUr-rJN_VDfA"
      },
      "source": [
        "#Week 6 ME on BLAS and Optimized MMM\n",
        "In this Machine Exercise, you will observe the performance of MMM with and without blocking to see how blocking may improve the performance of MMM. Then you will compare the performance of a matrix-multiply with blocking code with the built-in matrix multiply of Numpy which uses BLAS.\n",
        "\n",
        "The objectives of this machine exercise are:\n",
        "* for you to observe the effect of blocking on the performance of MMM\n",
        "* for you to observe the difference in performance of MMM using BLAS"
      ]
    },
    {
      "cell_type": "markdown",
      "metadata": {
        "id": "TezbaZie65OW"
      },
      "source": [
        "# Part I. Benchmarking MMM with and without Blocking\n",
        "The code below implements matrix-matrix multiplication between two square matrices. The `matmult` function implements a basic \"ijk\" matrix multiplication. The `matmultblk` function implements matrix multiplication with blocking.\n",
        "\n",
        "The benefit of using a blocking algorithm would be more obvious with larger matrices. Furthermore, blocking will only truly optimize the operation if the correct block size is selected.\n",
        "\n",
        "Observe the performance improvement provided by blocking with varying sizes of `n` (we are using n-by-n matrices) and the block size `N` [(n/N)x(n/N) blocks] (Warning, larger sizes of matrices will take a longer time to run). ***NOTE: The code provided only works with values of `n` and `N` that are exactly divisible. Please select your `n` and `N` values accordingly, or you may edit the code to remove this limitation.***\n",
        "\n",
        "Run experiments for the scenarios below. Record the sizes of `n`,`N`, and the runtimes that you observe:\n",
        "\n",
        "\n",
        "*   Small matrices (small `n`; ensure `N < n`)\n",
        "*   Large matrices (large `n`; try increasing values of `N`)\n",
        "\n",
        "\n",
        "After experimenting with the code below answer the following questions:\n",
        "\n",
        "1. As you increase the value of `N`, how do your block sizes change?\n",
        "The block sizes increases as N increases. \n",
        "2. For small matrices, does the algorithm with blocking perform better?\n",
        "No. \n",
        "3. Why or why not does blocking affect the performance of the multiplication?\n",
        "\n",
        "4. For large matrices, how does the value of `N` affect the performance of the algorithm with blocking?\n",
        "5. Why does `N` influence the amount of optimization achieved by blocking?\n",
        "6. **BONUS** [optional] Choose another way of optimizing MMM and write your own implementation of it. Analyze the performance of your code against the simple ijk, and the algorithm with blocking."
      ]
    },
    {
      "cell_type": "code",
      "execution_count": null,
      "metadata": {
        "id": "SV4M6o9DsnVw"
      },
      "outputs": [],
      "source": [
        "#!/usr/bin/env python\n",
        "\n",
        "import random\n",
        "from time import time\n",
        "import math\n",
        "\n",
        "random.seed(0)\n",
        "\n",
        "def matmult(a,b,c,n):\n",
        "  for i in range(n):\n",
        "    for j in range(n):\n",
        "      for k in range(n):\n",
        "        c[i][j] = c[i][j] + a[i][k]*b[k][j]\n",
        "  return c\n",
        "\n",
        "def matmultblk(a,b,c,n,N):\n",
        "# divide the nxn matrix into subblocks, resulting in an NxN matrix\n",
        "# each block is (n/N)x(n/N)\n",
        "  blk = math.floor(n/N)\n",
        "  for kk in range(0,n,blk): \n",
        "    #print(\"kk: \",kk)\n",
        "    for jj in range(0,n,blk):\n",
        "      #print(\"jj: \",jj)\n",
        "      for i in range(n): \n",
        "        for j in range(jj,jj+blk):\n",
        "          for k in range(kk,kk+blk):\n",
        "            #print(\"A[%d][%d], B[%d][%d]\" %(i,k,k,j))\n",
        "            c[i][j] = c[i][j] + a[i][k]*b[k][j]\n",
        "        #print(\" \")\n",
        "  return c\n",
        "\n",
        "def init_matrix(mat,n,value):\n",
        "  for x in range(n):\n",
        "    new = []\n",
        "    for y in range(n):\n",
        "      new.append(value)\n",
        "    mat.append(new)\n",
        "\n",
        "def init_rand(mat,n):\n",
        "  for x in range(n):\n",
        "    new = []\n",
        "    for y in range(n):\n",
        "      new.append(random.random())\n",
        "    mat.append(new)\n",
        "\n",
        "def fill_zero(mat,n):\n",
        "  for x in range(n):\n",
        "    for y in range(n):\n",
        "     mat[x][y] = 0\n",
        "\n",
        "#@title Select the matrix and block sizes such that n is divisible by N\n",
        "n =  1920#@param{type: \"number\"}\n",
        "N =  30#@param{type: \"number\"}\n",
        "\n",
        "A = []\n",
        "B = []\n",
        "C = []\n",
        "\n",
        "init_rand(A,n)\n",
        "init_rand(B,n)\n",
        "init_matrix(C,n,0)\n",
        "\n",
        "t = time()\n",
        "c = matmult(A,B,C,n)\n",
        "runtime = time() - t\n",
        "print(\"MMM w/o blocking completed in %f seconds\" % (runtime))\n",
        "#print(C)\n",
        "\n",
        "fill_zero(C,n) #reset C to zeros\n",
        "\n",
        "t = time()\n",
        "c_block = matmultblk(A,B,C,n,N)\n",
        "runtime = time() - t\n",
        "print(\"MMM with blocking completed in %f seconds\" % (runtime))\n",
        "#print(C)\n",
        "\n",
        "print(\"Verifying if blocking and nonblocking algorithms have equal results...\")\n",
        "if c == c_block:\n",
        "  print(\"OK!\")\n",
        "else:\n",
        "  print(\"Not ok.\")"
      ]
    },
    {
      "cell_type": "markdown",
      "metadata": {
        "id": "IwztBWAE-nJU"
      },
      "source": [
        ""
      ]
    },
    {
      "cell_type": "markdown",
      "metadata": {
        "id": "JXGzjHdVSqc1"
      },
      "source": [
        "#Part 2. Is Numpy Optimized for Speed?\n",
        "## A. Determine what BLAS library is being used by Numpy\n",
        "To determine the BLAS library used by Numpy, you can run the `show_config()` function as shown in the code below."
      ]
    },
    {
      "cell_type": "code",
      "execution_count": null,
      "metadata": {
        "colab": {
          "base_uri": "https://localhost:8080/"
        },
        "id": "7oHS7_ZuXfZt",
        "outputId": "e161acc0-eb7b-474d-bec1-f7967e34175e"
      },
      "outputs": [
        {
          "name": "stdout",
          "output_type": "stream",
          "text": [
            "blas_mkl_info:\n",
            "  NOT AVAILABLE\n",
            "blis_info:\n",
            "  NOT AVAILABLE\n",
            "openblas_info:\n",
            "    libraries = ['openblas', 'openblas']\n",
            "    library_dirs = ['/usr/local/lib']\n",
            "    language = c\n",
            "    define_macros = [('HAVE_CBLAS', None)]\n",
            "    runtime_library_dirs = ['/usr/local/lib']\n",
            "blas_opt_info:\n",
            "    libraries = ['openblas', 'openblas']\n",
            "    library_dirs = ['/usr/local/lib']\n",
            "    language = c\n",
            "    define_macros = [('HAVE_CBLAS', None)]\n",
            "    runtime_library_dirs = ['/usr/local/lib']\n",
            "lapack_mkl_info:\n",
            "  NOT AVAILABLE\n",
            "openblas_lapack_info:\n",
            "    libraries = ['openblas', 'openblas']\n",
            "    library_dirs = ['/usr/local/lib']\n",
            "    language = c\n",
            "    define_macros = [('HAVE_CBLAS', None)]\n",
            "    runtime_library_dirs = ['/usr/local/lib']\n",
            "lapack_opt_info:\n",
            "    libraries = ['openblas', 'openblas']\n",
            "    library_dirs = ['/usr/local/lib']\n",
            "    language = c\n",
            "    define_macros = [('HAVE_CBLAS', None)]\n",
            "    runtime_library_dirs = ['/usr/local/lib']\n",
            "Supported SIMD extensions in this NumPy install:\n",
            "    baseline = SSE,SSE2,SSE3\n",
            "    found = SSSE3,SSE41,POPCNT,SSE42,AVX,F16C,FMA3,AVX2\n",
            "    not found = AVX512F,AVX512CD,AVX512_KNL,AVX512_KNM,AVX512_SKX,AVX512_CLX,AVX512_CNL,AVX512_ICL\n"
          ]
        }
      ],
      "source": [
        "#!/usr/bin/env python\n",
        "\n",
        "import numpy as np\n",
        "np.show_config()"
      ]
    },
    {
      "cell_type": "markdown",
      "metadata": {
        "id": "QK3lWdKoXuc9"
      },
      "source": [
        "1. Which library is Numpy configured to use?\n",
        "2. Try the same command on your own machine. Which library is Numpy configured to use on your machine?"
      ]
    },
    {
      "cell_type": "markdown",
      "metadata": {
        "id": "ELF4QgHaX3Hs"
      },
      "source": [
        "##B. Compare the performance of our MMM with blocking and Numpy's MMM\n",
        "The code below performs matrix multiply two ways:\n",
        "* using the previous code with blocking\n",
        "* using Numpy's built in matmul() function\n",
        "\n",
        "Run the code for various values of n and N and answer the questions below.\n",
        "\n",
        "2. What is the difference in performance of `matmul()` and the provided matrix multiply code with blocking? Is it a significant difference?\n",
        "3. Can you observe this difference in performance for all sizes of matrices?\n",
        "4. What are the reasons behind the difference in performance?\n",
        "5. How attainable would it be to write your own code that has comparable performance with Numpy's `matmul()`?\n",
        "6. If you were writing an application that performs a lot of linear algebra computations, how should you reorder your code to optimize its performance?"
      ]
    },
    {
      "cell_type": "code",
      "execution_count": null,
      "metadata": {
        "colab": {
          "base_uri": "https://localhost:8080/"
        },
        "id": "j9tlZuX4Y2Yb",
        "outputId": "b6fa1bad-849b-4bde-9c57-430d8116da71"
      },
      "outputs": [
        {
          "name": "stdout",
          "output_type": "stream",
          "text": [
            "MMM with blocking completed in 3955.123969 seconds\n",
            "Numpy matmul() completed in 0.741521 seconds\n"
          ]
        }
      ],
      "source": [
        "#!/usr/bin/env python\n",
        "\n",
        "import numpy as np\n",
        "import random\n",
        "from time import time\n",
        "import math\n",
        "import copy\n",
        "\n",
        "random.seed(0)\n",
        "\n",
        "def init_matrix(mat,n,value):\n",
        "  for x in range(n):\n",
        "    new = []\n",
        "    for y in range(n):\n",
        "      new.append(value)\n",
        "    mat.append(new)\n",
        "\n",
        "def init_rand(mat,n):\n",
        "  for x in range(n):\n",
        "    new = []\n",
        "    for y in range(n):\n",
        "      new.append(random.random())\n",
        "    mat.append(new)\n",
        "\n",
        "def matmultblk(a,b,c,n,N):\n",
        "# divide the nxn matrix into subblocks, resulting in an NxN matrix\n",
        "# each block is (n/N)x(n/N)\n",
        "  blk = math.floor(n/N)\n",
        "  for kk in range(0,n,blk): \n",
        "    #print(\"kk: \",kk)\n",
        "    for jj in range(0,n,blk):\n",
        "      #print(\"jj: \",jj)\n",
        "      for i in range(n): \n",
        "        for j in range(jj,jj+blk):\n",
        "          for k in range(kk,kk+blk):\n",
        "            #print(\"A[%d][%d], B[%d][%d]\" %(i,k,k,j))\n",
        "            c[i][j] = c[i][j] + a[i][k]*b[k][j]\n",
        "        #print(\" \")\n",
        "  return c\n",
        "\n",
        "#@title Select the matrix size and block size such that n is divisible by N\n",
        "n = 1920 #@param{type: \"number\"}\n",
        "N =   960#@param{type: \"number\"}\n",
        "\n",
        "A = []\n",
        "B = []\n",
        "C = []\n",
        "\n",
        "init_rand(A,n)\n",
        "init_rand(B,n)\n",
        "init_matrix(C,n,0)\n",
        "\n",
        "t = time()\n",
        "c_block = matmultblk(A,B,C,n,N)\n",
        "runtime = time() - t\n",
        "print(\"MMM with blocking completed in %f seconds\" % (runtime))\n",
        "\n",
        "t = time()\n",
        "c_np = np.matmul(A,B)\n",
        "runtime = time() - t\n",
        "print(\"Numpy matmul() completed in %f seconds\" % (runtime))\n"
      ]
    },
    {
      "cell_type": "markdown",
      "metadata": {
        "id": "YVjtyLSU1Soh"
      },
      "source": [
        "# C. Faster Matrix Multiplications\n",
        "Check out some of the tips for speeding up matrix multiplications on Numpy on [this reference](https://www.benjaminjohnston.com.au/matmul). Research other ways of speeding up matrix-matrix multiplications on python using BLAS and other libraries. **Write your own code to experiment an alternative way of performaing matrix-matrix multiplication using available libraries. Try to find ways to further speed up the performance of matrix-matrix multiplication versus numpy.matmul().**\n",
        "\n",
        "Benchmark/compare the speed/performance and, if possible, accuracy of your method with the methods in the previous section (code with blocking, numpy matmul). Answer the questions below. (Please include your code for this section in your SE documentation)\n",
        "\n",
        "\n",
        "1.   What alternative method for performing matrix-matrix multiplication did you try? Explain how you tried to speed up MMM with this method.\n",
        "2.   In your experiments, were you able to speed up matrix-matrix multiplication compared to numpy.matmul()?\n",
        "*   If yes, did this speed-up apply for all sizes of matrices? \n",
        "\n",
        "*   If the approach you tested performed worse, what do you think may be the reason for poorer performance?\n",
        "\n",
        "\n"
      ]
    }
  ],
  "metadata": {
    "colab": {
      "collapsed_sections": [],
      "name": "201908229_CoE163_Week 6",
      "provenance": []
    },
    "kernelspec": {
      "display_name": "Python 3",
      "name": "python3"
    },
    "language_info": {
      "name": "python"
    }
  },
  "nbformat": 4,
  "nbformat_minor": 0
}